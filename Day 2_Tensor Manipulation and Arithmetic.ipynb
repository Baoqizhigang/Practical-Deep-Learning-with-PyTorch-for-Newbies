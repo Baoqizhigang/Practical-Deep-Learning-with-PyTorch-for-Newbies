{
 "cells": [
  {
   "cell_type": "markdown",
   "id": "4c8aea9b-3d57-434f-bd1c-fe7abda915e6",
   "metadata": {},
   "source": [
    "**Goal**: Learn how to reshape, slice, and perform arithmetic operations with tensors."
   ]
  },
  {
   "cell_type": "code",
   "execution_count": 2,
   "id": "0dd373fe-8639-4001-88ee-cbd728add302",
   "metadata": {},
   "outputs": [],
   "source": [
    "import torch"
   ]
  },
  {
   "cell_type": "markdown",
   "id": "f3f53885-1dc6-4ca2-8592-a9e1f4eba1b0",
   "metadata": {},
   "source": [
    "### Flattening a Tensor (Converting to 1D)\n",
    "**Flattening** a tensor is one of the most common reshaping operations, especially in deep learning where you need to pass data to a fully connected (dense) layer."
   ]
  },
  {
   "cell_type": "code",
   "execution_count": 27,
   "id": "548b2cbb-2ec8-4163-9e13-69ea9f823a00",
   "metadata": {},
   "outputs": [
    {
     "name": "stdout",
     "output_type": "stream",
     "text": [
      "tensor([1, 2, 3, 4, 5, 6])\n"
     ]
    }
   ],
   "source": [
    "# Create a 2x3 tensor\n",
    "tensor = torch.tensor([[1, 2, 3], [4, 5, 6]])\n",
    "\n",
    "# Flatten the tensor to a 1D tensor\n",
    "# The -1 argument tells PyTorch to infer the dimension automatically, converting the tensor into a 1D tensor with 6 elements.\n",
    "flattened = tensor.view(-1) # or tensor.reshape(-1)\n",
    "\n",
    "print(flattened)"
   ]
  },
  {
   "cell_type": "markdown",
   "id": "5a90a179-27f4-4aa8-8664-c2e74a039c36",
   "metadata": {},
   "source": [
    "### Reshaping a 2D Tensor to Another 2D Shape\n",
    "Reshaping a tensor to another 2D shape can be useful when adjusting dimensions to match model input requirements."
   ]
  },
  {
   "cell_type": "code",
   "execution_count": 28,
   "id": "508dc8d3-02a1-4926-8b62-e47db8018a9f",
   "metadata": {},
   "outputs": [
    {
     "name": "stdout",
     "output_type": "stream",
     "text": [
      "tensor([[1, 2],\n",
      "        [3, 4],\n",
      "        [5, 6]])\n"
     ]
    }
   ],
   "source": [
    "# Create a 2x3 tensor\n",
    "tensor = torch.tensor([[1, 2, 3], [4, 5, 6]])\n",
    "\n",
    "# Reshape to a 3x2 tensor\n",
    "reshaped_tensor = tensor.view(3, 2) # or tensor.reshape(3, 2)\n",
    "\n",
    "print(reshaped_tensor)"
   ]
  },
  {
   "cell_type": "markdown",
   "id": "db0bb613-325a-49ac-9884-e722366e26a0",
   "metadata": {},
   "source": [
    "### Reshaping a 3D Tensor\n",
    "Reshaping 3D tensors is common when dealing with image data or sequence data. For example, converting a batch of images with channels and dimensions."
   ]
  },
  {
   "cell_type": "code",
   "execution_count": 36,
   "id": "d50db448-abf8-458f-9256-81205bd51590",
   "metadata": {},
   "outputs": [
    {
     "name": "stdout",
     "output_type": "stream",
     "text": [
      "tensor([[[ 1,  2,  3],\n",
      "         [ 4,  5,  6]],\n",
      "\n",
      "        [[ 7,  8,  9],\n",
      "         [10, 11, 12]]])\n",
      "\n",
      "---------Below is the reshaped_3d-----------\n",
      "\n",
      "tensor([[[ 1,  2],\n",
      "         [ 3,  4]],\n",
      "\n",
      "        [[ 5,  6],\n",
      "         [ 7,  8]],\n",
      "\n",
      "        [[ 9, 10],\n",
      "         [11, 12]]])\n"
     ]
    }
   ],
   "source": [
    "# Create a 3D tensor with shape (2, 2, 3)\n",
    "tensor_3d = torch.tensor([[[1, 2, 3], [4, 5, 6]], \n",
    "                          [[7, 8, 9], [10, 11, 12]]])\n",
    "print(tensor_3d)\n",
    "print('\\n---------Below is the reshaped_3d-----------\\n')\n",
    "\n",
    "# Reshape to (3, 2, 2)\n",
    "reshaped_3d = tensor_3d.view(3, 2, 2)\n",
    "\n",
    "print(reshaped_3d)"
   ]
  },
  {
   "cell_type": "markdown",
   "id": "e3922551-0624-4778-a133-be2d10f11479",
   "metadata": {},
   "source": [
    "### Adding and Removing Dimensions\n",
    "In deep learning, it’s often necessary to add or remove dimensions to match the input requirements of specific layers (e.g., CNNs, RNNs). "
   ]
  },
  {
   "cell_type": "code",
   "execution_count": 37,
   "id": "f8afcd8a-9eea-432f-b07c-0b52b6ce375c",
   "metadata": {},
   "outputs": [
    {
     "name": "stdout",
     "output_type": "stream",
     "text": [
      "tensor([[1],\n",
      "        [2],\n",
      "        [3],\n",
      "        [4]])\n"
     ]
    }
   ],
   "source": [
    "# Create a 1D tensor\n",
    "tensor_1d = torch.tensor([1, 2, 3, 4]) # The original tensor has a shape of (4,)\n",
    "\n",
    "# Add a new dimension(becomes a 2D tensor of shape(4, 1))\n",
    "tensor_2d = tensor_1d.view(-1, 1) # The .view(-1, 1) operation reshapes the original tensor into a 2D tensor with 4 rows and 1 column.\n",
    "\n",
    "print(tensor_2d)"
   ]
  },
  {
   "cell_type": "code",
   "execution_count": 43,
   "id": "96640e90-75ee-4d68-b48e-7e5a47f41430",
   "metadata": {},
   "outputs": [
    {
     "name": "stdout",
     "output_type": "stream",
     "text": [
      "tensor([[[-0.0666,  1.0080,  0.9933,  1.2338],\n",
      "         [ 1.3134,  1.1547, -1.6852,  0.3730],\n",
      "         [-0.7990,  1.5947, -1.7588, -0.8603]]])\n",
      "torch.Size([3, 4])\n",
      "tensor([[-0.0666,  1.0080,  0.9933,  1.2338],\n",
      "        [ 1.3134,  1.1547, -1.6852,  0.3730],\n",
      "        [-0.7990,  1.5947, -1.7588, -0.8603]])\n"
     ]
    }
   ],
   "source": [
    "# Create a 3D tensor with shape (1, 3, 4)\n",
    "tensor_3d = torch.randn(1, 3, 4)\n",
    "print(tensor_3d)\n",
    "\n",
    "# Remove the first dimension\n",
    "# The .view(3, 4) operation removes the singleton dimension (the dimension of size 1), reducing the tensor from a shape of (1, 3, 4) to (3, 4).\n",
    "tensor_2d = tensor_3d.view(3, 4)\n",
    "\n",
    "print(tensor_2d.shape)\n",
    "print(tensor_2d)"
   ]
  },
  {
   "cell_type": "markdown",
   "id": "b20c1ada-6661-44cf-83c7-3d6448581cec",
   "metadata": {},
   "source": [
    "### Reshaping with Automatic Dimension Inference\n",
    "The -1 argument is a flexible way to let PyTorch infer the dimension size based on the total number of elements."
   ]
  },
  {
   "cell_type": "code",
   "execution_count": 48,
   "id": "9cb99da3-bdeb-45af-8b57-a45a2c494a62",
   "metadata": {},
   "outputs": [
    {
     "name": "stdout",
     "output_type": "stream",
     "text": [
      "tensor([[1, 2],\n",
      "        [3, 4],\n",
      "        [5, 6],\n",
      "        [7, 8]])\n"
     ]
    }
   ],
   "source": [
    "# Create a 2x4 tensor\n",
    "tensor = torch.tensor([[1,2,3,4],[5,6,7,8]])\n",
    "\n",
    "# Reshape to (4, 2) using automatic dimension inference\n",
    "# By using -1, PyTorch automatically calculates that the second dimension should be 2, resulting in a tensor of shape (4, 2).\n",
    "reshaped_auto = tensor.view(4, -1)\n",
    "\n",
    "print(reshaped_auto)"
   ]
  },
  {
   "cell_type": "code",
   "execution_count": 21,
   "id": "afb5f7d9-6b16-496c-bbb4-49394e7c592a",
   "metadata": {},
   "outputs": [
    {
     "name": "stdout",
     "output_type": "stream",
     "text": [
      "b = tensor([-1.5133, -1.3200,  0.1004,  0.1707,  1.8815,  0.2046, -0.8868,  2.2143,\n",
      "        -0.1967, -0.0207, -0.1680, -0.5309])\n",
      "The length of b = 12\n",
      "c = tensor([[-1.5133, -1.3200,  0.1004,  0.1707,  1.8815,  0.2046],\n",
      "        [-0.8868,  2.2143, -0.1967, -0.0207, -0.1680, -0.5309]])\n",
      "The length of c = 2\n",
      "Mechanism: \n",
      "The -1 is used as a placeholder for PyTorch to infer the appropriate dimension based on the number of elements and the other specified dimension (6 columns in this case).\n",
      "PyTorch ensures that the reshaped tensor has the same total number of elements as the original tensor.\n"
     ]
    }
   ],
   "source": [
    "# Reshaping tensors:\n",
    "\n",
    "#  Create a 3x4 tensor filled with random values drawn from a normal distribution (mean 0, variance 1).\n",
    "a = torch.randn(3, 4)\n",
    "\n",
    "# Reshape the tensor a into a 1D tensor with 12 elements.\n",
    "b = a.view(12)  # The .view(12) operation does not alter the data in the tensor but reinterprets its layout as a 1D tensor of 12 elements.\n",
    "\n",
    "# Reshape the tensor a into a 2D tensor with 6 columns, and PyTorch automatically infers the number of rows.\n",
    "# The -1 tells PyTorch to calculate the appropriate dimension that matches the total number of elements in the tensor. \n",
    "# Since the original tensor has 12 elements, and we want 6 columns, PyTorch determines that the new tensor should have 2 rows (because 2×6=12).\n",
    "c = a.view(-1, 6)  # Automatically infer one dimension. The resulting tensor c has shape (2, 6).\n",
    "print(f'b = {b}')\n",
    "print(f'The length of b = {len(b)}')\n",
    "print(f'c = {c}')\n",
    "print(f'The length of c = {len(c)}')\n",
    "print('Mechanism: \\nThe -1 is used as a placeholder for PyTorch to infer the appropriate dimension based on the number of elements and the other specified dimension (6 columns in this case).\\n\\\n",
    "PyTorch ensures that the reshaped tensor has the same total number of elements as the original tensor.')"
   ]
  },
  {
   "cell_type": "markdown",
   "id": "f0feeaed-4060-4e79-9527-ef619430f5b4",
   "metadata": {},
   "source": [
    "### Reshaping a Batch of Images (Simulated)\n",
    "Consider a tensor that simulates a batch of grayscale images with the shape **(batch_size, height, width)**. Let’s reshape it for a CNN that requires a shape of **(batch_size, channels, height, width)**."
   ]
  },
  {
   "cell_type": "code",
   "execution_count": 50,
   "id": "2a8ba08b-9d30-47c2-846e-724a94a00680",
   "metadata": {},
   "outputs": [
    {
     "name": "stdout",
     "output_type": "stream",
     "text": [
      "torch.Size([10, 1, 28, 28])\n"
     ]
    }
   ],
   "source": [
    "# Simulate a batch of 10 grayscale images of size 28x28\n",
    "batch_images = torch.randn(10, 28, 28)\n",
    "\n",
    "# Reshape to (10, 1 28, 28) to add the channel dimension\n",
    "# The shape (10, 28, 28) is reshaped to (10, 1, 28, 28), where the 1 represents the single channel for grayscale images.\n",
    "batch_images_reshaped = batch_images.view(10, 1, 28, 28)\n",
    "\n",
    "print(batch_images_reshaped.shape)"
   ]
  },
  {
   "cell_type": "markdown",
   "id": "5ff7302a-5f08-436f-abfe-a4789fe7b25b",
   "metadata": {},
   "source": [
    "### Reshaping with **.reshape()** Instead of **.view()**\n",
    "* The .reshape() method offers more flexibility because it works even if the tensor is not contiguous in memory. It creates a new tensor if necessary.\n",
    "* .reshape() changes the tensor’s shape while maintaining the total number of elements. However, .reshape() works regardless of whether the tensor is contiguous in memory."
   ]
  },
  {
   "cell_type": "code",
   "execution_count": 51,
   "id": "abe48d52-6144-4a46-9a14-aa73c458365b",
   "metadata": {},
   "outputs": [
    {
     "name": "stdout",
     "output_type": "stream",
     "text": [
      "torch.Size([3, 2, 2])\n"
     ]
    }
   ],
   "source": [
    "# Create a 2x2x3 tensor\n",
    "tensor = torch.randn(2, 2, 3)\n",
    "\n",
    "# Reshape to a 3x2x2 tensor using .reshape()\n",
    "reshaped_tensor = tensor.reshape(3, 2, 2)\n",
    "\n",
    "print(reshaped_tensor.shape)"
   ]
  },
  {
   "cell_type": "markdown",
   "id": "49f27f95-4ffe-4023-81d8-6ef1d0ce7a76",
   "metadata": {},
   "source": [
    "### Contiguous Memory Requirement:\n",
    "\n",
    "The **.view()** method requires the tensor to be **contiguous** in memory. If the tensor is not contiguous (e.g., if it’s created as a slice of another tensor), you may need to call **.contiguous()** before using **.view()**.\n",
    "\n",
    "### Difference Between .view() and .reshape():\n",
    "\n",
    "**.view()** is faster but requires the tensor to be **contiguous**. If the tensor is not contiguous, .view() may fail, while **.reshape()** automatically handles this by returning a new tensor if needed.\n",
    "\n",
    "### Summary:\n",
    "* **a.view(12)** flattens the tensor a into a 1D tensor with 12 elements.\n",
    "* **a.view(-1, 6)** reshapes the tensor a into a 2D tensor with 6 columns, and PyTorch infers the number of rows based on the total number of elements."
   ]
  },
  {
   "cell_type": "code",
   "execution_count": 23,
   "id": "1ed090eb-9303-4767-9368-7a79212214a6",
   "metadata": {},
   "outputs": [
    {
     "name": "stdout",
     "output_type": "stream",
     "text": [
      "tensor([[-1.5133, -1.3200,  0.1004,  0.1707,  1.8815,  0.2046],\n",
      "        [-0.8868,  2.2143, -0.1967, -0.0207, -0.1680, -0.5309]])\n"
     ]
    }
   ],
   "source": [
    "a_contiguous = a.contiguous().view(-1, 6)\n",
    "print(a_contiguous)"
   ]
  },
  {
   "cell_type": "code",
   "execution_count": 14,
   "id": "94123005-ad94-49a4-91d8-cf4b9cb75999",
   "metadata": {},
   "outputs": [
    {
     "name": "stdout",
     "output_type": "stream",
     "text": [
      "tensor([1., 2., 3.])\n",
      "tensor([2., 5.])\n"
     ]
    }
   ],
   "source": [
    "# Slicing and indexing:\n",
    "x = torch.Tensor([[1,2,3],[4,5,6]])\n",
    "print(x[0, : ])  # Select the first row\n",
    "print(x[ : , 1])  # Select the second column"
   ]
  },
  {
   "cell_type": "markdown",
   "id": "330440d5-6d0a-414c-82de-4438c170f146",
   "metadata": {},
   "source": [
    "### Reshaping\n",
    "**Reshaping** involves changing the dimensions of a tensor **without altering its data** or the total number of elements. The operation only modifies the **view** or **layout** of the existing data in memory. This is often done using .view() or .reshape() in PyTorch.\n",
    "\n",
    "### Key Characteristics of Reshaping:\n",
    "**Number of Elements Remains the Same:**\n",
    "* Reshaping only changes the dimensions; it doesn’t add or remove any elements.\n",
    "* The product of the dimensions before and after reshaping must be equal.\n",
    "  \n",
    "**No Data Modification:**\n",
    "* The data within the tensor remains unchanged; only its layout (shape) is modified.\n",
    "  \n",
    "**Memory Efficiency:**\n",
    "* Reshaping is generally memory efficient because it creates a new view of the original data without copying or reallocating it (assuming the tensor is contiguous)."
   ]
  },
  {
   "cell_type": "code",
   "execution_count": 24,
   "id": "9de1561c-3b1f-471b-8cbc-2c0c71d811c2",
   "metadata": {},
   "outputs": [
    {
     "name": "stdout",
     "output_type": "stream",
     "text": [
      "tensor([[1, 2],\n",
      "        [3, 4],\n",
      "        [5, 6]])\n"
     ]
    }
   ],
   "source": [
    "# Original tensor with shape (2, 3)\n",
    "a = torch.tensor([[1,2,3],[4,5,6]])\n",
    "\n",
    "# Reshape to (3, 2)\n",
    "reshaped_a = a.view(3, 2)\n",
    "\n",
    "print(reshaped_a)"
   ]
  },
  {
   "attachments": {
    "b4978294-1cd9-481f-b2e4-157bc450bafb.png": {
     "image/png": "[encoded data removed]"
    }
   },
   "cell_type": "markdown",
   "id": "9f7ff153-5f54-4961-91ef-bf85a9cb4bf6",
   "metadata": {},
   "source": [
    "### Resizing\n",
    "**Resizing**, on the other hand, changes the shape of a tensor and **may alter the number of elements**. The operation can increase or decrease the size of the tensor, potentially allocating new memory or removing elements. In PyTorch, resizing is typically done using **.resize_()**.\n",
    "\n",
    "### Key Characteristics of Resizing:\n",
    "**Number of Elements Can Change:**\n",
    "* Resizing allows you to change the number of elements in a tensor. You can increase the number of elements (expanding the tensor) or decrease it (shrinking the tensor).\n",
    "\n",
    "**Data May Be Lost or Uninitialized:**\n",
    "* If the tensor is resized to a larger shape, the new elements may be uninitialized (contain random values).\n",
    "* If the tensor is resized to a smaller shape, the extra elements are discarded.\n",
    "  \n",
    "**In-Place Operation:**\n",
    "* In PyTorch, **.resize_()** is an in-place operation (indicated by the underscore). This means the original tensor is modified directly.\n",
    "  \n",
    "**Memory Allocation:**\n",
    "* If the new shape requires more elements than the original, additional memory is allocated.\n",
    "* If fewer elements are required, the excess data is removed.\n",
    "\n",
    "![image.png](attachment:b4978294-1cd9-481f-b2e4-157bc450bafb.png)\n"
   ]
  },
  {
   "cell_type": "code",
   "execution_count": 16,
   "id": "eaea05cd-ef2e-4fe4-aee5-b503c6af0389",
   "metadata": {},
   "outputs": [
    {
     "name": "stdout",
     "output_type": "stream",
     "text": [
      "tensor = tensor([[ 0.7398, -0.0217, -0.5210],\n",
      "        [-0.6307,  1.0332,  0.0871],\n",
      "        [-0.3218,  1.2397,  0.1795],\n",
      "        [-1.9788, -0.5969,  0.2844]])\n",
      "reshaped_tensor = tensor([[ 0.7398, -0.0217, -0.5210, -0.6307],\n",
      "        [ 1.0332,  0.0871, -0.3218,  1.2397],\n",
      "        [ 0.1795, -1.9788, -0.5969,  0.2844]])\n"
     ]
    }
   ],
   "source": [
    "# Assignment: ractice reshaping and slicing tensors with different shape\n",
    "\n",
    "# Creat a tensor of shape(4, 3) and reshape it to (3, 4)\n",
    "tensor = torch.randn(4, 3)\n",
    "print(f\"tensor = {tensor}\")\n",
    "reshaped_tensor = tensor.view(3, 4)\n",
    "print(f\"reshaped_tensor = {reshaped_tensor}\")"
   ]
  },
  {
   "cell_type": "code",
   "execution_count": 25,
   "id": "01e634cf-68f3-42ca-b655-e36d48fa5d8b",
   "metadata": {},
   "outputs": [
    {
     "name": "stdout",
     "output_type": "stream",
     "text": [
      "tensor([[                  1,                   2,                   3],\n",
      "        [                  4,                   5,                   6],\n",
      "        [4599468989859495936, 4608261980841574400, 4595635506062032896]])\n"
     ]
    }
   ],
   "source": [
    "# Original tensor with shape (2, 3)\n",
    "b = torch.tensor([[1, 2, 3], [4, 5, 6]])\n",
    "\n",
    "# Resize the tensor to (3, 3) in-place\n",
    "b.resize_(3, 3)\n",
    "\n",
    "# The new elements are uninitialized and may contain random values.\n",
    "print(b)\n"
   ]
  },
  {
   "cell_type": "code",
   "execution_count": null,
   "id": "1754703e-3cfd-4ffd-a26a-c6b1f566fe29",
   "metadata": {},
   "outputs": [],
   "source": []
  }
 ],
 "metadata": {
  "kernelspec": {
   "display_name": "Python 3 (ipykernel)",
   "language": "python",
   "name": "python3"
  },
  "language_info": {
   "codemirror_mode": {
    "name": "ipython",
    "version": 3
   },
   "file_extension": ".py",
   "mimetype": "text/x-python",
   "name": "python",
   "nbconvert_exporter": "python",
   "pygments_lexer": "ipython3",
   "version": "3.11.7"
  }
 },
 "nbformat": 4,
 "nbformat_minor": 5
}
